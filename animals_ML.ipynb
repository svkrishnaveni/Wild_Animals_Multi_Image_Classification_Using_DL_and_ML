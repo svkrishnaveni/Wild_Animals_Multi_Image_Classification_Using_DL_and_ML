{
  "nbformat": 4,
  "nbformat_minor": 0,
  "metadata": {
    "colab": {
      "provenance": []
    },
    "kernelspec": {
      "name": "python3",
      "display_name": "Python 3"
    },
    "language_info": {
      "name": "python"
    }
  },
  "cells": [
    {
      "cell_type": "code",
      "execution_count": 1,
      "metadata": {
        "colab": {
          "base_uri": "https://localhost:8080/"
        },
        "id": "ZsqwcxJ1dfke",
        "outputId": "82c22976-0b80-468d-924d-acb3673b3c46"
      },
      "outputs": [
        {
          "output_type": "stream",
          "name": "stdout",
          "text": [
            "Drive already mounted at /content/drive; to attempt to forcibly remount, call drive.mount(\"/content/drive\", force_remount=True).\n"
          ]
        }
      ],
      "source": [
        "# Mount folder from google drive\n",
        "from google.colab import drive\n",
        "drive.mount('/content/drive')"
      ]
    },
    {
      "cell_type": "code",
      "source": [
        "import numpy as np\n",
        "import pandas as pd\n",
        "import seaborn as sns\n",
        "import matplotlib.pyplot as plt\n",
        " \n",
        "from sklearn.metrics import classification_report, confusion_matrix"
      ],
      "metadata": {
        "id": "_5J2z8audssk"
      },
      "execution_count": 2,
      "outputs": []
    },
    {
      "cell_type": "code",
      "source": [],
      "metadata": {
        "id": "peeZ4KJcdsve"
      },
      "execution_count": 2,
      "outputs": []
    },
    {
      "cell_type": "code",
      "source": [
        "import os\n",
        "\n",
        "str_train_dir = \"/content/drive/MyDrive/train_size_300\"\n",
        "str_valtest_dir = \"/content/drive/MyDrive/valtest_size_300\"\n",
        "def get_data(path):\n",
        "    class_names = os.listdir(path)\n",
        "    image_paths = []\n",
        "    labels = []\n",
        "    for name in class_names:\n",
        "        directory = os.path.join(path, name)\n",
        "        class_path = [os.path.join(directory, f) for f in os.listdir(directory)]\n",
        "        image_paths += class_path\n",
        "        labels.extend([name] * len(class_path))\n",
        "\n",
        "    return image_paths, labels\n",
        "\n",
        "\n",
        "def get_training_data():\n",
        "    return get_data(str_train_dir)\n",
        "\n",
        "\n",
        "def get_test_data():\n",
        "    return get_data(str_valtest_dir)\n",
        "\n",
        "import pickle\n",
        "\n",
        "\n",
        "def save_model(filepath, clf):\n",
        "    pickle.dump(clf, open(filepath, \"wb\"))\n",
        "\n",
        "\n",
        "def load_model(model_path: str):\n",
        "    with open(model_path, \"rb\") as model_file:\n",
        "        model = pickle.load(model_file)\n",
        "\n",
        "    return model"
      ],
      "metadata": {
        "id": "w1zrNN9wdsyX"
      },
      "execution_count": 3,
      "outputs": []
    },
    {
      "cell_type": "code",
      "source": [
        "from typing import List\n",
        "\n",
        "import cv2\n",
        "import numpy as np\n",
        "from scipy.cluster.vq import kmeans, vq\n",
        "\n",
        "\n",
        "CLUSTER_SIZE = 200\n",
        "\n",
        "\n",
        "def extract_feature(images: List[str]):\n",
        "    n = len(images)\n",
        "    descriptors = []\n",
        "    orb = cv2.ORB_create()\n",
        "\n",
        "    # extract features\n",
        "    for image_path in images:\n",
        "        img = cv2.imread(image_path)\n",
        "        features = orb.detect(img, None)\n",
        "        _, img_descriptor = orb.compute(img, features)\n",
        "        descriptors.append((image_path, img_descriptor))\n",
        "\n",
        "    # reformat training descriptors\n",
        "    concat_descriptors = descriptors[0][1]\n",
        "    for image_path, descriptor in descriptors[1:]:\n",
        "        concat_descriptors = np.vstack((concat_descriptors, descriptor))\n",
        "    concat_descriptors = concat_descriptors.astype(float)\n",
        "\n",
        "    # k-means clustering\n",
        "    codebook, _ = kmeans(concat_descriptors, CLUSTER_SIZE, 1)\n",
        "\n",
        "    # create histogram of training images\n",
        "    img_features = np.zeros((n, CLUSTER_SIZE), \"float32\")\n",
        "    for i in range(n):\n",
        "        words, distance = vq(descriptors[i][1], codebook)\n",
        "        for word in words:\n",
        "            img_features[i][word] += 1\n",
        "\n",
        "    return img_features, codebook"
      ],
      "metadata": {
        "id": "Ces-RjzDds1E"
      },
      "execution_count": 4,
      "outputs": []
    },
    {
      "cell_type": "code",
      "source": [
        "import numpy as np\n",
        "from sklearn.naive_bayes import GaussianNB\n",
        "from scipy import stats\n",
        "from sklearn.model_selection import GridSearchCV, RandomizedSearchCV \n",
        "from sklearn.svm import SVC as svc \n",
        "from sklearn.ensemble import RandomForestClassifier\n",
        "from sklearn.neighbors import KNeighborsClassifier\n",
        "from sklearn.metrics import make_scorer, roc_auc_score\n",
        "\n",
        "def get_training_features():\n",
        "    training_images, training_labels = get_training_data()\n",
        "    img_features, codebook = extract_feature(training_images)\n",
        "    return img_features, codebook, training_labels\n",
        "\n",
        "## set search parameters for SVC classifier\n",
        "\n",
        "# C: float, default=1.0\n",
        "# Regularization parameter. The strength of the regularization is inversely proportional to C.\n",
        "# Must be strictly positive. The penalty is a squared l2 penalty.\n",
        "\n",
        "# kernel {‘linear’, ‘poly’, ‘rbf’, ‘sigmoid’, ‘precomputed’} or callable, default=’rbf’\n",
        "# Specifies the kernel type to be used in the algorithm. If none is given, ‘rbf’ will be used.\n",
        "#\n",
        "# degreeint, default=3\n",
        "# Degree of the polynomial kernel function (‘poly’). Ignored by all other kernels.\n",
        "\n",
        "rand_list_svc = {\"C\": stats.uniform(2, 10),\n",
        "             \"gamma\": stats.uniform(0.1, 1),\n",
        "             \"kernel\": ['linear', 'poly', 'rbf', 'sigmoid'],\n",
        "             }\n",
        "\n",
        "## set search parameters for KNN classifier\n",
        "\n",
        "# n_neighborsint, default=5\n",
        "# Number of neighbors to use by default for kneighbors queries.\n",
        "\n",
        "# weights {‘uniform’, ‘distance’} or callable, default=’uniform’\n",
        "# Weight function used in prediction. Possible values:\n",
        "\n",
        "# ‘uniform’ : uniform weights. All points in each neighborhood are weighted equally.\n",
        "\n",
        "# ‘distance’ : weight points by the inverse of their distance. \n",
        "\n",
        "rand_list_knn = {\n",
        "                    'n_neighbors':  [int(x) for x in np.linspace(start = 1, stop = 100, num = 50)],\n",
        "                    'weights': ['uniform','distance'],\n",
        "                    'metric': ['euclidean','manhattan','chebyshev','minkowski'] ,\n",
        "                    }\n",
        "\n",
        "## set search parameters for Random Forests classifier\n",
        "\n",
        "# n_estimators int, default=100\n",
        "# The number of trees in the forest.\n",
        "\n",
        "\n",
        "# criterion{“gini”, “entropy”, “log_loss”}, default=”gini”\n",
        "# The function to measure the quality of a split. \n",
        "# max_depth int, default=None\n",
        "# The maximum depth of the tree. \n",
        "\n",
        "rand_list_rf = {'bootstrap': [True, False],\n",
        "               'max_depth': [5, 10, 20, 30, 40, 50, None],\n",
        "               'criterion': ['gini','entropy'],\n",
        "               'n_estimators': [10, 30, 100, 200]}\n",
        "\n",
        "\n",
        "def train_model(X,Y,model_str = 'rf'):\n",
        "   \n",
        "    if model_str == 'rf':\n",
        "        mdl = RandomForestClassifier()\n",
        "        mdl2 = RandomizedSearchCV(mdl, param_distributions = rand_list_rf, n_iter = 200, n_jobs = 4, cv = 3, random_state = 7, scoring = \"accuracy\") \n",
        "        mdl2.fit(X, Y)\n",
        "        print(\"Best RF estimator found by Random search:\")\n",
        "        print(mdl2.best_estimator_)\n",
        "        return mdl2\n",
        "    elif model_str == 'svm':\n",
        "        mdl = svc(probability = True)\n",
        "        mdl2 = RandomizedSearchCV(mdl, param_distributions = rand_list_svc, n_iter = 200, n_jobs = 4, cv = 3, random_state = 7, scoring = \"accuracy\") \n",
        "        mdl2.fit(X, Y)\n",
        "        print(\"Best svm estimator found by Random search:\")\n",
        "        print(mdl2.best_estimator_)\n",
        "        return mdl2\n",
        "    elif model_str == 'knn':\n",
        "        mdl = KNeighborsClassifier()\n",
        "        mdl2 = RandomizedSearchCV(mdl, param_distributions = rand_list_knn, n_iter = 200, n_jobs = 4, cv = 3, random_state = 7, scoring = \"accuracy\")\n",
        "        mdl2.fit(X, Y) \n",
        "        print(\"Best knn estimator found by Random search:\")\n",
        "        print(mdl2.best_estimator_)\n",
        "        return mdl2\n",
        "    elif model_str == 'nbc':\n",
        "        mdl2 = GaussianNB()\n",
        "        mdl2.fit(X, Y)\n",
        "        return mdl2\n",
        "\n"
      ],
      "metadata": {
        "id": "lNv7VMX8ds38"
      },
      "execution_count": 5,
      "outputs": []
    },
    {
      "cell_type": "code",
      "source": [
        "train_features, codebook, train_labels = get_training_features()\n",
        "test_images, test_labels = get_test_data()\n"
      ],
      "metadata": {
        "id": "jzX2SfNbds9b",
        "colab": {
          "base_uri": "https://localhost:8080/",
          "height": 333
        },
        "outputId": "17f1a52a-5fcb-48f8-8664-37eea07a9b0c"
      },
      "execution_count": 6,
      "outputs": [
        {
          "output_type": "error",
          "ename": "KeyboardInterrupt",
          "evalue": "ignored",
          "traceback": [
            "\u001b[0;31m---------------------------------------------------------------------------\u001b[0m",
            "\u001b[0;31mKeyboardInterrupt\u001b[0m                         Traceback (most recent call last)",
            "\u001b[0;32m<ipython-input-6-3430d852d5d0>\u001b[0m in \u001b[0;36m<module>\u001b[0;34m\u001b[0m\n\u001b[0;32m----> 1\u001b[0;31m \u001b[0mtrain_features\u001b[0m\u001b[0;34m,\u001b[0m \u001b[0mcodebook\u001b[0m\u001b[0;34m,\u001b[0m \u001b[0mtrain_labels\u001b[0m \u001b[0;34m=\u001b[0m \u001b[0mget_training_features\u001b[0m\u001b[0;34m(\u001b[0m\u001b[0;34m)\u001b[0m\u001b[0;34m\u001b[0m\u001b[0;34m\u001b[0m\u001b[0m\n\u001b[0m\u001b[1;32m      2\u001b[0m \u001b[0mtest_images\u001b[0m\u001b[0;34m,\u001b[0m \u001b[0mtest_labels\u001b[0m \u001b[0;34m=\u001b[0m \u001b[0mget_test_data\u001b[0m\u001b[0;34m(\u001b[0m\u001b[0;34m)\u001b[0m\u001b[0;34m\u001b[0m\u001b[0;34m\u001b[0m\u001b[0m\n",
            "\u001b[0;32m<ipython-input-5-7e996ea3e052>\u001b[0m in \u001b[0;36mget_training_features\u001b[0;34m()\u001b[0m\n\u001b[1;32m     10\u001b[0m \u001b[0;32mdef\u001b[0m \u001b[0mget_training_features\u001b[0m\u001b[0;34m(\u001b[0m\u001b[0;34m)\u001b[0m\u001b[0;34m:\u001b[0m\u001b[0;34m\u001b[0m\u001b[0;34m\u001b[0m\u001b[0m\n\u001b[1;32m     11\u001b[0m     \u001b[0mtraining_images\u001b[0m\u001b[0;34m,\u001b[0m \u001b[0mtraining_labels\u001b[0m \u001b[0;34m=\u001b[0m \u001b[0mget_training_data\u001b[0m\u001b[0;34m(\u001b[0m\u001b[0;34m)\u001b[0m\u001b[0;34m\u001b[0m\u001b[0;34m\u001b[0m\u001b[0m\n\u001b[0;32m---> 12\u001b[0;31m     \u001b[0mimg_features\u001b[0m\u001b[0;34m,\u001b[0m \u001b[0mcodebook\u001b[0m \u001b[0;34m=\u001b[0m \u001b[0mextract_feature\u001b[0m\u001b[0;34m(\u001b[0m\u001b[0mtraining_images\u001b[0m\u001b[0;34m)\u001b[0m\u001b[0;34m\u001b[0m\u001b[0;34m\u001b[0m\u001b[0m\n\u001b[0m\u001b[1;32m     13\u001b[0m     \u001b[0;32mreturn\u001b[0m \u001b[0mimg_features\u001b[0m\u001b[0;34m,\u001b[0m \u001b[0mcodebook\u001b[0m\u001b[0;34m,\u001b[0m \u001b[0mtraining_labels\u001b[0m\u001b[0;34m\u001b[0m\u001b[0;34m\u001b[0m\u001b[0m\n\u001b[1;32m     14\u001b[0m \u001b[0;34m\u001b[0m\u001b[0m\n",
            "\u001b[0;32m<ipython-input-4-cf9b1e9e64ff>\u001b[0m in \u001b[0;36mextract_feature\u001b[0;34m(images)\u001b[0m\n\u001b[1;32m     16\u001b[0m     \u001b[0;31m# extract features\u001b[0m\u001b[0;34m\u001b[0m\u001b[0;34m\u001b[0m\u001b[0;34m\u001b[0m\u001b[0m\n\u001b[1;32m     17\u001b[0m     \u001b[0;32mfor\u001b[0m \u001b[0mimage_path\u001b[0m \u001b[0;32min\u001b[0m \u001b[0mimages\u001b[0m\u001b[0;34m:\u001b[0m\u001b[0;34m\u001b[0m\u001b[0;34m\u001b[0m\u001b[0m\n\u001b[0;32m---> 18\u001b[0;31m         \u001b[0mimg\u001b[0m \u001b[0;34m=\u001b[0m \u001b[0mcv2\u001b[0m\u001b[0;34m.\u001b[0m\u001b[0mimread\u001b[0m\u001b[0;34m(\u001b[0m\u001b[0mimage_path\u001b[0m\u001b[0;34m)\u001b[0m\u001b[0;34m\u001b[0m\u001b[0;34m\u001b[0m\u001b[0m\n\u001b[0m\u001b[1;32m     19\u001b[0m         \u001b[0mfeatures\u001b[0m \u001b[0;34m=\u001b[0m \u001b[0morb\u001b[0m\u001b[0;34m.\u001b[0m\u001b[0mdetect\u001b[0m\u001b[0;34m(\u001b[0m\u001b[0mimg\u001b[0m\u001b[0;34m,\u001b[0m \u001b[0;32mNone\u001b[0m\u001b[0;34m)\u001b[0m\u001b[0;34m\u001b[0m\u001b[0;34m\u001b[0m\u001b[0m\n\u001b[1;32m     20\u001b[0m         \u001b[0m_\u001b[0m\u001b[0;34m,\u001b[0m \u001b[0mimg_descriptor\u001b[0m \u001b[0;34m=\u001b[0m \u001b[0morb\u001b[0m\u001b[0;34m.\u001b[0m\u001b[0mcompute\u001b[0m\u001b[0;34m(\u001b[0m\u001b[0mimg\u001b[0m\u001b[0;34m,\u001b[0m \u001b[0mfeatures\u001b[0m\u001b[0;34m)\u001b[0m\u001b[0;34m\u001b[0m\u001b[0;34m\u001b[0m\u001b[0m\n",
            "\u001b[0;31mKeyboardInterrupt\u001b[0m: "
          ]
        }
      ]
    },
    {
      "cell_type": "code",
      "source": [
        "test_images, test_labels = get_test_data()"
      ],
      "metadata": {
        "id": "v-sDMFuQmL2H"
      },
      "execution_count": 6,
      "outputs": []
    },
    {
      "cell_type": "code",
      "source": [
        "# save train features and codebook\n",
        "save_model(\"/content/drive/MyDrive/ML_BOW_trainfeatures.pkl\",train_features)\n",
        "save_model(\"/content/drive/MyDrive/ML_BOW_codebook.pkl\",codebook)"
      ],
      "metadata": {
        "id": "f94z6cBe0WKZ"
      },
      "execution_count": null,
      "outputs": []
    },
    {
      "cell_type": "code",
      "source": [
        "rf_mdl = train_model(train_features,np.array(train_labels),model_str = 'rf')"
      ],
      "metadata": {
        "colab": {
          "base_uri": "https://localhost:8080/"
        },
        "id": "u4U4FGuDdtAs",
        "outputId": "a4a0074d-79e2-4009-b0bb-c52128b79237"
      },
      "execution_count": null,
      "outputs": [
        {
          "output_type": "stream",
          "name": "stderr",
          "text": [
            "/usr/local/lib/python3.7/dist-packages/sklearn/model_selection/_search.py:296: UserWarning: The total space of parameters 112 is smaller than n_iter=200. Running 112 iterations. For exhaustive searches, use GridSearchCV.\n",
            "  UserWarning,\n"
          ]
        },
        {
          "output_type": "stream",
          "name": "stdout",
          "text": [
            "Best RF estimator found by Random search:\n",
            "RandomForestClassifier(max_depth=40, n_estimators=200)\n"
          ]
        }
      ]
    },
    {
      "cell_type": "code",
      "source": [
        "save_model(\"/content/drive/MyDrive/ML_BOW_RFmdl.pkl\",rf_mdl)"
      ],
      "metadata": {
        "id": "VcnfOO1QdtDb"
      },
      "execution_count": null,
      "outputs": []
    },
    {
      "cell_type": "code",
      "source": [
        "knn_mdl = train_model(train_features,np.array(train_labels),model_str = 'knn')"
      ],
      "metadata": {
        "colab": {
          "base_uri": "https://localhost:8080/"
        },
        "id": "vBi9JEIAdtGV",
        "outputId": "b2c3dbf8-cb8b-488f-ff2d-f94ddec9bd8b"
      },
      "execution_count": null,
      "outputs": [
        {
          "output_type": "stream",
          "name": "stdout",
          "text": [
            "Best knn estimator found by Random search:\n",
            "KNeighborsClassifier(metric='euclidean', n_neighbors=37, weights='distance')\n"
          ]
        }
      ]
    },
    {
      "cell_type": "code",
      "source": [
        "save_model(\"/content/drive/MyDrive/ML_BOW_KNNmdl.pkl\",knn_mdl)"
      ],
      "metadata": {
        "id": "CbcQ-vO6dtI-"
      },
      "execution_count": null,
      "outputs": []
    },
    {
      "cell_type": "code",
      "source": [
        "nbc_mdl = train_model(train_features,np.array(train_labels),model_str = 'nbc')"
      ],
      "metadata": {
        "id": "-SGzmS0adtL-"
      },
      "execution_count": null,
      "outputs": []
    },
    {
      "cell_type": "code",
      "source": [
        "save_model(\"/content/drive/MyDrive/ML_BOW_NBCmdl.pkl\",nbc_mdl)"
      ],
      "metadata": {
        "id": "vvAwn7-3dtOr"
      },
      "execution_count": null,
      "outputs": []
    },
    {
      "cell_type": "code",
      "source": [
        "svm_mdl = train_model(train_features,np.array(train_labels),model_str = 'svm')"
      ],
      "metadata": {
        "colab": {
          "base_uri": "https://localhost:8080/"
        },
        "id": "uDopAqowz_VB",
        "outputId": "f0b38d7a-0186-4a0b-8ecc-ab51fd9f9c6b"
      },
      "execution_count": null,
      "outputs": [
        {
          "output_type": "stream",
          "name": "stdout",
          "text": [
            "Best svm estimator found by Random search:\n",
            "SVC(C=11.782228970785825, gamma=0.5555849133282118, kernel='poly',\n",
            "    probability=True)\n"
          ]
        }
      ]
    },
    {
      "cell_type": "code",
      "source": [
        "save_model(\"/content/drive/MyDrive/ML_BOW_SVMmdl.pkl\",svm_mdl)"
      ],
      "metadata": {
        "id": "hND0i8uL2S5M"
      },
      "execution_count": null,
      "outputs": []
    },
    {
      "cell_type": "code",
      "source": [
        "import cv2\n",
        "import numpy as np\n",
        "from scipy.cluster.vq import vq\n",
        "\n",
        "CLUSTER_SIZE = 200\n",
        "\n",
        "\n",
        "def evaluate_model(estimator_path: str, codebook_path: str):\n",
        "    estimator = load_model(estimator_path)\n",
        "    codebook = load_model(codebook_path)\n",
        "    orb = cv2.ORB_create()\n",
        "    test_images, test_labels = get_test_data()\n",
        "    n = len(test_images)\n",
        "    test_descriptors = []\n",
        "    # extract features\n",
        "    for image_path in test_images:\n",
        "        img = cv2.imread(image_path)\n",
        "        features = orb.detect(img, None)\n",
        "        _, img_descriptor = orb.compute(img, features)\n",
        "        test_descriptors.append((image_path, img_descriptor))\n",
        "\n",
        "    img_features = np.zeros((n, CLUSTER_SIZE), \"float32\")\n",
        "    # create histogram of test images\n",
        "    for i in range(n):\n",
        "        words, distance = vq(test_descriptors[i][1], codebook)\n",
        "        for word in words:\n",
        "            img_features[i][word] += 1\n",
        "\n",
        "    predictions = estimator.predict(img_features)\n",
        "    y_pred = predictions\n",
        "    correct = 0\n",
        "    for i in range(n):\n",
        "        if predictions[i] == test_labels[i]:\n",
        "            correct += 1\n",
        "\n",
        "    accuracy = correct / n\n",
        "    mdl_str = estimator_path.split('_',2)\n",
        "    print(classification_report(test_labels, y_pred, target_names=target_names))\n",
        "    cm = confusion_matrix(test_labels, y_pred, labels=target_names)\n",
        "    disp = ConfusionMatrixDisplay(confusion_matrix=cm,display_labels=target_names)\n",
        "    disp.plot()\n",
        "    plt.title('Confusion matrix - '+mdl_str[2][:-7])\n",
        "   \n",
        "    plt.tight_layout()\n",
        "    plt.show()\n",
        "    return round(accuracy, 2), predictions"
      ],
      "metadata": {
        "id": "kxtqRiwsiAjc"
      },
      "execution_count": 7,
      "outputs": []
    },
    {
      "cell_type": "code",
      "source": [
        "from sklearn.metrics import ConfusionMatrixDisplay\n",
        "\n",
        "print(\"Predicting Image labels on the test set\")\n",
        "target_names = ['cheetah','fox','hyena','lion','tiger','wolf']\n",
        "Model_names=['NBC','KNN','RF','SVM']\n",
        "acc_list = []\n",
        "for model in Model_names:\n",
        "    print(f\"--------------------------Evaluating {model} using Bag of Visual Words-------------------------------------\")\n",
        "    acc ,y_pred = evaluate_model(\"/content/drive/MyDrive/ML_BOW_\"+model+\"mdl.pkl\", \"/content/drive/MyDrive/ML_BOW_codebook.pkl\")\n",
        "    acc_list.append(acc)\n",
        " \n"
      ],
      "metadata": {
        "colab": {
          "base_uri": "https://localhost:8080/",
          "height": 1000
        },
        "id": "jOY-bjeEiAyA",
        "outputId": "d8bfdc79-9186-4565-9715-e56f9498c178"
      },
      "execution_count": 15,
      "outputs": [
        {
          "output_type": "stream",
          "name": "stdout",
          "text": [
            "Predicting Image labels on the test set\n",
            "--------------------------Evaluating NBC using Bag of Visual Words-------------------------------------\n",
            "              precision    recall  f1-score   support\n",
            "\n",
            "     cheetah       0.66      0.43      0.52       104\n",
            "         fox       0.31      0.28      0.29        75\n",
            "       hyena       0.30      0.33      0.31        92\n",
            "        lion       0.37      0.30      0.33        88\n",
            "       tiger       0.39      0.72      0.50        81\n",
            "        wolf       0.29      0.23      0.25        79\n",
            "\n",
            "    accuracy                           0.38       519\n",
            "   macro avg       0.39      0.38      0.37       519\n",
            "weighted avg       0.40      0.38      0.38       519\n",
            "\n"
          ]
        },
        {
          "output_type": "display_data",
          "data": {
            "text/plain": [
              "<Figure size 432x288 with 2 Axes>"
            ],
            "image/png": "[encoded data removed]"
          },
          "metadata": {
            "needs_background": "light"
          }
        },
        {
          "output_type": "stream",
          "name": "stdout",
          "text": [
            "--------------------------Evaluating KNN using Bag of Visual Words-------------------------------------\n",
            "              precision    recall  f1-score   support\n",
            "\n",
            "     cheetah       0.61      0.53      0.57       104\n",
            "         fox       0.43      0.36      0.39        75\n",
            "       hyena       0.33      0.36      0.35        92\n",
            "        lion       0.34      0.28      0.31        88\n",
            "       tiger       0.41      0.70      0.52        81\n",
            "        wolf       0.30      0.22      0.25        79\n",
            "\n",
            "    accuracy                           0.41       519\n",
            "   macro avg       0.41      0.41      0.40       519\n",
            "weighted avg       0.41      0.41      0.40       519\n",
            "\n"
          ]
        },
        {
          "output_type": "display_data",
          "data": {
            "text/plain": [
              "<Figure size 432x288 with 2 Axes>"
            ],
            "image/png": "[encoded data removed]"
          },
          "metadata": {
            "needs_background": "light"
          }
        },
        {
          "output_type": "stream",
          "name": "stdout",
          "text": [
            "--------------------------Evaluating RF using Bag of Visual Words-------------------------------------\n",
            "              precision    recall  f1-score   support\n",
            "\n",
            "     cheetah       0.55      0.56      0.55       104\n",
            "         fox       0.43      0.25      0.32        75\n",
            "       hyena       0.28      0.38      0.32        92\n",
            "        lion       0.32      0.30      0.31        88\n",
            "       tiger       0.47      0.57      0.51        81\n",
            "        wolf       0.29      0.23      0.25        79\n",
            "\n",
            "    accuracy                           0.39       519\n",
            "   macro avg       0.39      0.38      0.38       519\n",
            "weighted avg       0.39      0.39      0.38       519\n",
            "\n"
          ]
        },
        {
          "output_type": "display_data",
          "data": {
            "text/plain": [
              "<Figure size 432x288 with 2 Axes>"
            ],
            "image/png": "[encoded data removed]"
          },
          "metadata": {
            "needs_background": "light"
          }
        },
        {
          "output_type": "stream",
          "name": "stdout",
          "text": [
            "--------------------------Evaluating SVM using Bag of Visual Words-------------------------------------\n",
            "              precision    recall  f1-score   support\n",
            "\n",
            "     cheetah       0.59      0.55      0.57       104\n",
            "         fox       0.32      0.32      0.32        75\n",
            "       hyena       0.36      0.42      0.39        92\n",
            "        lion       0.33      0.34      0.33        88\n",
            "       tiger       0.55      0.51      0.53        81\n",
            "        wolf       0.28      0.27      0.27        79\n",
            "\n",
            "    accuracy                           0.41       519\n",
            "   macro avg       0.41      0.40      0.40       519\n",
            "weighted avg       0.41      0.41      0.41       519\n",
            "\n"
          ]
        },
        {
          "output_type": "display_data",
          "data": {
            "text/plain": [
              "<Figure size 432x288 with 2 Axes>"
            ],
            "image/png": "[encoded data removed]"
          },
          "metadata": {
            "needs_background": "light"
          }
        }
      ]
    },
    {
      "cell_type": "code",
      "source": [
        "#plot accuracies of ML models\n",
        "import seaborn as sns\n",
        "\n",
        "\n",
        "plt.figure(figsize=(8, 6))\n",
        "splot=sns.barplot(Model_names,acc_list)\n",
        "plt.xlabel(\"ML Models\", size=16)\n",
        "plt.ylabel(\"Accuracy\", size=16)\n",
        "plt.bar_label(splot.containers[0],size=16)\n",
        "plt.ylim([0,1])\n",
        "plt.title('ML models: Accuracy')\n"
      ],
      "metadata": {
        "colab": {
          "base_uri": "https://localhost:8080/",
          "height": 482
        },
        "id": "F54VFOOJQsec",
        "outputId": "52d7d444-4740-44ea-e805-71fa01ed69f0"
      },
      "execution_count": 16,
      "outputs": [
        {
          "output_type": "stream",
          "name": "stderr",
          "text": [
            "/usr/local/lib/python3.7/dist-packages/seaborn/_decorators.py:43: FutureWarning: Pass the following variables as keyword args: x, y. From version 0.12, the only valid positional argument will be `data`, and passing other arguments without an explicit keyword will result in an error or misinterpretation.\n",
            "  FutureWarning\n"
          ]
        },
        {
          "output_type": "execute_result",
          "data": {
            "text/plain": [
              "Text(0.5, 1.0, 'ML models: Accuracy')"
            ]
          },
          "metadata": {},
          "execution_count": 16
        },
        {
          "output_type": "display_data",
          "data": {
            "text/plain": [
              "<Figure size 576x432 with 1 Axes>"
            ],
            "image/png": "[encoded data removed]"
          },
          "metadata": {
            "needs_background": "light"
          }
        }
      ]
    },
    {
      "cell_type": "code",
      "source": [
        "#plot accuracies of ML and DL models\n",
        "import seaborn as sns\n",
        "\n",
        "Model_names=['NBC','KNN','RF','SVM','Transfer Learning (InceptionResNetV2)','afterFineTuning']\n",
        "plt.figure(figsize=(24, 8))\n",
        "#acc_list.extend([1.0,1.0])\n",
        "splot=sns.barplot(Model_names,acc_list)\n",
        "plt.xlabel(\"Classification Models\", size=22)\n",
        "plt.ylabel(\"Accuracy\", size=22)\n",
        "plt.bar_label(splot.containers[0],size=16)\n",
        "plt.ylim([0,1.1])\n",
        "plt.title('All models: Accuracy', size=16)\n",
        "plt.xticks(fontsize=14, rotation=0)"
      ],
      "metadata": {
        "colab": {
          "base_uri": "https://localhost:8080/",
          "height": 663
        },
        "id": "mcSI4IZLT-8t",
        "outputId": "b371d193-1d4e-43fe-84ef-1ba7dc1c225a"
      },
      "execution_count": 30,
      "outputs": [
        {
          "output_type": "stream",
          "name": "stderr",
          "text": [
            "/usr/local/lib/python3.7/dist-packages/seaborn/_decorators.py:43: FutureWarning: Pass the following variables as keyword args: x, y. From version 0.12, the only valid positional argument will be `data`, and passing other arguments without an explicit keyword will result in an error or misinterpretation.\n",
            "  FutureWarning\n"
          ]
        },
        {
          "output_type": "execute_result",
          "data": {
            "text/plain": [
              "(array([0, 1, 2, 3, 4, 5]),\n",
              " [Text(0, 0, 'NBC'),\n",
              "  Text(1, 0, 'KNN'),\n",
              "  Text(2, 0, 'RF'),\n",
              "  Text(3, 0, 'SVM'),\n",
              "  Text(4, 0, 'Transfer Learning (InceptionResNetV2)'),\n",
              "  Text(5, 0, 'afterFineTuning')])"
            ]
          },
          "metadata": {},
          "execution_count": 30
        },
        {
          "output_type": "display_data",
          "data": {
            "text/plain": [
              "<Figure size 1728x576 with 1 Axes>"
            ],
            "image/png": "[encoded data removed]"
          },
          "metadata": {
            "needs_background": "light"
          }
        }
      ]
    },
    {
      "cell_type": "code",
      "source": [
        "acc_list"
      ],
      "metadata": {
        "colab": {
          "base_uri": "https://localhost:8080/"
        },
        "id": "ugRDPX9cgYEP",
        "outputId": "f527738f-b275-4b36-d0ea-bb03261dcfce"
      },
      "execution_count": 14,
      "outputs": [
        {
          "output_type": "execute_result",
          "data": {
            "text/plain": [
              "[0.38, 0.41, 0.39, 0.41, 1.0, 1.0, 1.0, 1.0]"
            ]
          },
          "metadata": {},
          "execution_count": 14
        }
      ]
    },
    {
      "cell_type": "code",
      "source": [],
      "metadata": {
        "id": "7PW4Uszagl18"
      },
      "execution_count": null,
      "outputs": []
    }
  ]
}